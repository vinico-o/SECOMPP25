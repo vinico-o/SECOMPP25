{
 "cells": [
  {
   "cell_type": "markdown",
   "id": "82c35127",
   "metadata": {},
   "source": [
    "# Introdução à Linguagem Python"
   ]
  },
  {
   "cell_type": "markdown",
   "id": "9f4f9910",
   "metadata": {},
   "source": [
    "## Declaração de Variáveis"
   ]
  },
  {
   "cell_type": "code",
   "execution_count": 3,
   "id": "aac55e40",
   "metadata": {},
   "outputs": [
    {
     "name": "stdout",
     "output_type": "stream",
     "text": [
      "Vinicius\n",
      "19\n",
      "Araçatuba\n"
     ]
    }
   ],
   "source": [
    "idade = 19\n",
    "idade: int = 19\n",
    "\n",
    "altura = 1.78\n",
    "altura: int = 1.78\n",
    "\n",
    "nome = \"Vinicius\"\n",
    "nome: str = \"Vinicius\"\n",
    "\n",
    "#Arrays\n",
    "numeros = [10, 20, 30]\n",
    "nomes = [\"Vinicius\", \"Mardegan\"]\n",
    "\n",
    "#Tuplas\n",
    "#Sao Imutaveis\n",
    "coordenadas = (10, 20)\n",
    "\n",
    "#Dicionarios\n",
    "#Parecido com struct em C\n",
    "pessoa = {\n",
    "    \"nome\": \"Vinicius\",\n",
    "    \"idade\": 19,\n",
    "    \"cidade\": \"Araçatuba\"\n",
    "}\n",
    "\n",
    "#acesso por colchetes\n",
    "print(pessoa[\"nome\"])\n",
    "print(pessoa[\"idade\"])\n",
    "print(pessoa[\"cidade\"])"
   ]
  },
  {
   "cell_type": "markdown",
   "id": "ed6b6ca4",
   "metadata": {},
   "source": [
    "## Entrada e Saida de dados"
   ]
  },
  {
   "cell_type": "code",
   "execution_count": 5,
   "id": "acc4596d",
   "metadata": {},
   "outputs": [
    {
     "name": "stdout",
     "output_type": "stream",
     "text": [
      "vinicius\n",
      "19\n"
     ]
    }
   ],
   "source": [
    "nome = input(\"Digite seu nome: \")\n",
    "print(nome)\n",
    "\n",
    "idade = int(input(\"Digite sua idade: \"))\n",
    "print(idade)"
   ]
  },
  {
   "cell_type": "markdown",
   "id": "91bcc479",
   "metadata": {},
   "source": [
    "## Operadores"
   ]
  },
  {
   "cell_type": "code",
   "execution_count": null,
   "id": "d664d2c9",
   "metadata": {},
   "outputs": [
    {
     "name": "stdout",
     "output_type": "stream",
     "text": [
      "30.0\n",
      "-10.0\n",
      "200.0\n",
      "0.5\n",
      "0.0\n",
      "10.0\n",
      "1e+20\n"
     ]
    }
   ],
   "source": [
    "a = 10.0\n",
    "b = 20.0\n",
    "\n",
    "soma = a + b\n",
    "print(soma)\n",
    "\n",
    "subtracao = a - b\n",
    "print(subtracao)\n",
    "\n",
    "multiplicacao = a * b\n",
    "print(multiplicacao)\n",
    "\n",
    "divisao = a / b\n",
    "print(divisao)\n",
    "\n",
    "divisao_inteira = a // b\n",
    "print(divisao_inteira)\n",
    "\n",
    "resto = a % b\n",
    "print(resto)\n",
    "\n",
    "exponenciacao = a ** b\n",
    "print(exponenciacao)"
   ]
  },
  {
   "cell_type": "markdown",
   "id": "9e9b05a4",
   "metadata": {},
   "source": [
    "## Operadores de COmparação"
   ]
  },
  {
   "cell_type": "code",
   "execution_count": 7,
   "id": "b37e363d",
   "metadata": {},
   "outputs": [
    {
     "name": "stdout",
     "output_type": "stream",
     "text": [
      "False\n",
      "False\n",
      "True\n",
      "True\n",
      "False\n",
      "True\n"
     ]
    }
   ],
   "source": [
    "print(a > b)\n",
    "print(a >= b)\n",
    "print(a < b)\n",
    "print(a <= b)\n",
    "print(a == b)\n",
    "print(a != b)"
   ]
  },
  {
   "cell_type": "markdown",
   "id": "be6eabc2",
   "metadata": {},
   "source": [
    "## Operadores Lógicos"
   ]
  },
  {
   "cell_type": "code",
   "execution_count": 8,
   "id": "b6a125a9",
   "metadata": {},
   "outputs": [
    {
     "name": "stdout",
     "output_type": "stream",
     "text": [
      "False\n",
      "True\n",
      "False\n"
     ]
    }
   ],
   "source": [
    "c1 = True\n",
    "c2 = False\n",
    "\n",
    "resultadoAnd = c1 and c2\n",
    "resultadoOr = c1 or c2\n",
    "resultadoNot = not c1\n",
    "\n",
    "print(resultadoAnd)\n",
    "print(resultadoOr)\n",
    "print(resultadoNot)"
   ]
  },
  {
   "cell_type": "markdown",
   "id": "0fadc9e8",
   "metadata": {},
   "source": [
    "## Operador de Pertencimento"
   ]
  },
  {
   "cell_type": "code",
   "execution_count": null,
   "id": "3ba9387a",
   "metadata": {},
   "outputs": [
    {
     "name": "stdout",
     "output_type": "stream",
     "text": [
      "False\n",
      "True\n",
      "False\n",
      "False\n",
      "True\n"
     ]
    }
   ],
   "source": [
    "lista1 = [1, 2, 3]\n",
    "lista2 = [1, 2, 5]\n",
    "lista3 = [1, 2, 3]\n",
    "lista4 = lista1\n",
    "\n",
    "print(5 in lista1)\n",
    "print(1 in lista1)\n",
    "print(lista1 is lista2)\n",
    "print(lista1 is lista3)\n",
    "print(lista1 is lista4)"
   ]
  },
  {
   "cell_type": "markdown",
   "id": "98921365",
   "metadata": {},
   "source": [
    "## Estruturas Lógicas"
   ]
  },
  {
   "cell_type": "code",
   "execution_count": 14,
   "id": "614a7bc4",
   "metadata": {},
   "outputs": [
    {
     "name": "stdout",
     "output_type": "stream",
     "text": [
      "idade == 10\n"
     ]
    }
   ],
   "source": [
    "idade = 10\n",
    "\n",
    "if idade < 10:\n",
    "    print(\"idade < 10\")\n",
    "elif idade == 10:\n",
    "    print(\"idade == 10\")\n",
    "else:\n",
    "    print(\"idade > 10\")"
   ]
  },
  {
   "cell_type": "markdown",
   "id": "e443e0c6",
   "metadata": {},
   "source": [
    "## Tratamento de Exceções"
   ]
  },
  {
   "cell_type": "code",
   "execution_count": 16,
   "id": "10e04ecc",
   "metadata": {},
   "outputs": [
    {
     "name": "stdout",
     "output_type": "stream",
     "text": [
      "fim da operação\n",
      "Não é possível dividir por 0\n",
      "fim da operação\n"
     ]
    }
   ],
   "source": [
    "def dividir(numero1, numero2):\n",
    "    try:\n",
    "        resultado = numero1 / numero2\n",
    "        return resultado\n",
    "    except ZeroDivisionError:\n",
    "        print(\"Não é possível dividir por 0\")\n",
    "    finally:\n",
    "        print(\"fim da operação\")\n",
    "\n",
    "dividir(10, 20)\n",
    "dividir(10, 0)"
   ]
  },
  {
   "cell_type": "markdown",
   "id": "eefd8a24",
   "metadata": {},
   "source": [
    "## Estruturas de Repetição"
   ]
  },
  {
   "cell_type": "code",
   "execution_count": null,
   "id": "705cdd04",
   "metadata": {},
   "outputs": [
    {
     "name": "stdout",
     "output_type": "stream",
     "text": [
      "1\n",
      "2\n",
      "3\n",
      "4\n",
      "5\n",
      "6\n",
      "7\n",
      "8\n",
      "9\n",
      "10\n",
      "10\n",
      "20\n",
      "30\n",
      "40\n",
      "10\n",
      "20\n",
      "30\n",
      "40\n",
      "0 10\n",
      "1 20\n",
      "2 30\n",
      "3 40\n"
     ]
    }
   ],
   "source": [
    "i = 1\n",
    "while i <= 10:\n",
    "    print(i)\n",
    "    i += 1\n",
    "\n",
    "lista = [10, 20, 30, 40]\n",
    "\n",
    "#itera sobre os indices\n",
    "for i in range(len(lista)):\n",
    "    print(lista[i])\n",
    "\n",
    "#itera sobre os valores\n",
    "for i in lista:\n",
    "    print(i)\n",
    "\n",
    "#outra maneira de iterar sobre os indices\n",
    "for indice, lista in enumerate(lista):\n",
    "    print(indice, lista)"
   ]
  },
  {
   "cell_type": "markdown",
   "id": "8806e909",
   "metadata": {},
   "source": [
    "## Exercício Adivinhação"
   ]
  },
  {
   "cell_type": "code",
   "execution_count": 25,
   "id": "960a5de5",
   "metadata": {},
   "outputs": [],
   "source": [
    "import random"
   ]
  },
  {
   "cell_type": "code",
   "execution_count": 28,
   "id": "011a622a",
   "metadata": {},
   "outputs": [
    {
     "name": "stdout",
     "output_type": "stream",
     "text": [
      "Seu numero é menor!\n",
      "Seu numero é menor!\n",
      "Seu numero é menor!\n",
      "Seu numero é maior!\n",
      "Seu numero é menor!\n",
      "Seu numero é menor!\n",
      "Seu numero é menor!\n",
      "Seu numero é menor!\n",
      "Parabens, voce ganhou!\n"
     ]
    }
   ],
   "source": [
    "x = random.randint(1, 100)\n",
    "while(True):\n",
    "    y = int(input(\"Digite um Numero: \"))\n",
    "    try:\n",
    "        y = int(y)\n",
    "    except ValueError:\n",
    "        print(\"Valor Invalido!, digite um int\")\n",
    "    if y < x:\n",
    "        print(\"Seu numero é menor!\")\n",
    "    elif y > x:\n",
    "        print(\"Seu numero é maior!\")\n",
    "    else:\n",
    "        print(\"Parabens, voce ganhou!\")\n",
    "        break"
   ]
  },
  {
   "cell_type": "markdown",
   "id": "3e034fd2",
   "metadata": {},
   "source": [
    "## Funções"
   ]
  },
  {
   "cell_type": "code",
   "execution_count": 43,
   "id": "5c329f25",
   "metadata": {},
   "outputs": [
    {
     "name": "stdout",
     "output_type": "stream",
     "text": [
      "Olá Vinicius!\n",
      "3628800\n",
      "30\n",
      "100\n"
     ]
    }
   ],
   "source": [
    "def saudar(nome):\n",
    "    print(f\"Olá {nome}!\")\n",
    "\n",
    "saudar(\"Vinicius\")\n",
    "\n",
    "def calcular_medidas(largura, altura):\n",
    "    area = altura * largura\n",
    "    perimetro = (altura + largura) * 2\n",
    "    return area, perimetro\n",
    "\n",
    "def fatorial(n):\n",
    "    if n == 0:\n",
    "        return 1\n",
    "    else:\n",
    "        return n * fatorial((n - 1))\n",
    "\n",
    "resultado = fatorial(10)\n",
    "print(resultado)\n",
    "\n",
    "operacao = lambda x, y: x ** 2 + 5 * y + 6\n",
    "print(operacao(2, 4))\n",
    "\n",
    "def aplicarFuncao(funcao, numero):\n",
    "    return funcao(numero)\n",
    "\n",
    "def quadrado(numero):\n",
    "    return numero ** 2\n",
    "\n",
    "resultado2 = aplicarFuncao(quadrado, 10)\n",
    "print(resultado2)"
   ]
  },
  {
   "cell_type": "markdown",
   "id": "8cf0d8a6",
   "metadata": {},
   "source": [
    "## Importações de módulos"
   ]
  },
  {
   "cell_type": "code",
   "execution_count": 51,
   "id": "c20ce975",
   "metadata": {},
   "outputs": [
    {
     "name": "stdout",
     "output_type": "stream",
     "text": [
      "10\n",
      "4.0\n",
      "4.0\n"
     ]
    }
   ],
   "source": [
    "import random #importa o modulo inteiro\n",
    "from math import sqrt #importa somente uma função\n",
    "import math as m #coloca um apelido na biblioteca\n",
    "\n",
    "numero = random.randint(1, 100)\n",
    "lista = [10, 20, 30, 40, 50]\n",
    "\n",
    "numero = random.choice(lista)\n",
    "print(numero)\n",
    "\n",
    "numero = 16\n",
    "print(sqrt(numero))\n",
    "\n",
    "print(m.sqrt(numero))\n"
   ]
  },
  {
   "cell_type": "markdown",
   "id": "66aeeb6a",
   "metadata": {},
   "source": [
    "## Operações de Listas"
   ]
  },
  {
   "cell_type": "code",
   "execution_count": 63,
   "id": "d6ac7ddb",
   "metadata": {},
   "outputs": [
    {
     "name": "stdout",
     "output_type": "stream",
     "text": [
      "1\n",
      "7\n",
      "[1, 2, 3, 4, 5, 6, 7]\n",
      "[1, 2, 3, 4, 5, 6, 7, 8]\n",
      "[1, 2, 3, 4, 5, 6, 7, 8]\n",
      "[1, 2, 3, 2, 4, 5, 6, 7, 8]\n",
      "[1, 2, 3, 2, 4, 5, 6, 7, 8]\n",
      "[1, 2, 2, 4, 5, 6, 7, 8]\n",
      "[1, 2, 2, 4, 5, 6, 7, 8]\n",
      "[1, 2, 4, 5, 6, 7, 8] 2\n",
      "[4, 5, 6]\n",
      "[1, 2, 4, 5]\n",
      "[8]\n",
      "[1, 4, 9, 16, 25, 36, 49, 64, 81, 100]\n",
      "[4, 16, 36, 64, 100]\n",
      "['vinicius', 'mardegan']\n",
      "['VINICIUS', 'MARDEGAN']\n"
     ]
    }
   ],
   "source": [
    "numero = [1, 2, 3, 4, 5, 6, 7]\n",
    "nomes = [\"vincius\", \"mardegan\"]\n",
    "dados = [10, 12.5, \"vinicius\", True]\n",
    "\n",
    "#Acesso a listas\n",
    "print(numero[0]) #primeiro elemento\n",
    "print(numero[-1]) #ultimo elemento\n",
    "\n",
    "#Adicionado elemento na ultima posicao da lista\n",
    "print(numero)\n",
    "numero.append(8)\n",
    "print(numero)\n",
    "\n",
    "#Adicionando elemento em uma posicao especifica\n",
    "print(numero)\n",
    "numero.insert(3, 2)\n",
    "print(numero)\n",
    "\n",
    "#Removendo um elemento especifico\n",
    "print(numero)\n",
    "numero.remove(3)\n",
    "print(numero)\n",
    "\n",
    "#Removendo o indice do elemento e retorna o valor\n",
    "print(numero)\n",
    "removido = numero.pop(2)\n",
    "print(numero, removido)\n",
    "\n",
    "#Slices\n",
    "sublista = numero[2:5] #pega das posicoes 2 ate 5\n",
    "print(sublista)\n",
    "\n",
    "sublista = numero[:4] #pega do primeiro ate 4\n",
    "print(sublista)\n",
    "\n",
    "sublista = numero[6:] #pega do 6 ate o final\n",
    "print(sublista)\n",
    "\n",
    "#Criando listas com funcoes\n",
    "quadrados = [x ** 2 for x in range(1, 11)]\n",
    "quadrados_pares = [x ** 2 for x in range(1, 11) if x % 2 == 0]\n",
    "print(quadrados)\n",
    "print(quadrados_pares)\n",
    "\n",
    "nomes = [\"vinicius\", \"mardegan\"]\n",
    "nomesCaps = [nome.upper() for nome in nomes]\n",
    "print(nomes)\n",
    "print(nomesCaps)"
   ]
  },
  {
   "cell_type": "markdown",
   "id": "959478bd",
   "metadata": {},
   "source": [
    "## Matrizes"
   ]
  },
  {
   "cell_type": "code",
   "execution_count": null,
   "id": "84d2dbb8",
   "metadata": {},
   "outputs": [
    {
     "name": "stdout",
     "output_type": "stream",
     "text": [
      "[[1, 2, 3], [4, 5, 6], [7, 8, 9]]\n",
      "[1, 2, 3]\n",
      "1\n"
     ]
    }
   ],
   "source": [
    "matriz = [[1, 2, 3], [4, 5, 6], [7, 8, 9]]\n",
    "print(matriz)\n",
    "\n",
    "#primeira linha\n",
    "print(matriz[0])\n",
    "\n",
    "#primeiro elemento\n",
    "print(matriz[0][0])\n"
   ]
  },
  {
   "cell_type": "markdown",
   "id": "396896ad",
   "metadata": {},
   "source": [
    "## Tuplas"
   ]
  },
  {
   "cell_type": "code",
   "execution_count": null,
   "id": "c9b27294",
   "metadata": {},
   "outputs": [
    {
     "name": "stdout",
     "output_type": "stream",
     "text": [
      "(1, 2, 3)\n",
      "(4, 5, 6)\n",
      "(4, 'vincius', 6.0)\n"
     ]
    }
   ],
   "source": [
    "#mais eficientes que listas, nao podem ser alteradas\n",
    "#nao sao alocadas dinamicamente\n",
    "tupla1 = (1, 2, 3)\n",
    "tupla2 = 4, 5, 6\n",
    "tupla3 = (4, \"vincius\", 6.0)\n",
    "\n",
    "print(tupla1)\n",
    "print(tupla2)\n",
    "print(tupla3)"
   ]
  },
  {
   "cell_type": "markdown",
   "id": "b0aa6d92",
   "metadata": {},
   "source": [
    "## Dicionarios"
   ]
  },
  {
   "cell_type": "code",
   "execution_count": 75,
   "id": "6396bd4e",
   "metadata": {},
   "outputs": [
    {
     "name": "stdout",
     "output_type": "stream",
     "text": [
      "{'nome': 'Vinicius', 'idade': 19, 'cidade': 'Araçatuba'}\n",
      "19\n",
      "nome\n",
      "idade\n",
      "cidade\n",
      "\n",
      "\n",
      "Vinicius\n",
      "19\n",
      "Araçatuba\n",
      "\n",
      "\n",
      "nome Vinicius\n",
      "idade 19\n",
      "cidade Araçatuba\n",
      "\n",
      "\n",
      "{'nome': 'Vinicius', 'cidade': 'Araçatuba'}\n",
      "19\n",
      "{'cidade': 'Araçatuba'}\n"
     ]
    }
   ],
   "source": [
    "#associacao entre chaves e valores\n",
    "pessoa = {\n",
    "    \"nome\": \"Vinicius\",\n",
    "    \"idade\": 19,\n",
    "    \"cidade\": \"Araçatuba\"\n",
    "}\n",
    "\n",
    "print(pessoa)\n",
    "print(pessoa[\"idade\"])\n",
    "\n",
    "#Iteracao nos indices\n",
    "for chave in pessoa:\n",
    "    print(chave)\n",
    "print(\"\\n\")\n",
    "#Iteracao nos valores\n",
    "for chave in pessoa.values():\n",
    "    print(chave)\n",
    "print(\"\\n\")\n",
    "#Itera sobre os Itens\n",
    "for keys, values in pessoa.items():\n",
    "    print(keys, values)\n",
    "print(\"\\n\")\n",
    "idadeVinicius = pessoa.pop(\"idade\")\n",
    "print(pessoa)\n",
    "print(idadeVinicius)\n",
    "\n",
    "#Operacoes\n",
    "del pessoa[\"nome\"]\n",
    "print(pessoa)\n"
   ]
  },
  {
   "cell_type": "markdown",
   "id": "2be04a09",
   "metadata": {},
   "source": [
    "## Exercício Jogo da Velha"
   ]
  },
  {
   "cell_type": "code",
   "execution_count": 93,
   "id": "2270a65c",
   "metadata": {},
   "outputs": [
    {
     "name": "stdout",
     "output_type": "stream",
     "text": [
      "[' ', ' ', ' ']\n",
      "[' ', ' ', ' ']\n",
      "[' ', ' ', ' ']\n",
      "\n",
      "\n",
      "Posição inválida! Use números de 0 a 2.\n",
      "Entrada inválida! Digite apenas números inteiros.\n",
      "Entrada inválida! Digite apenas números inteiros.\n",
      "[' ', ' ', ' ']\n",
      "[' ', 'X', ' ']\n",
      "[' ', ' ', ' ']\n",
      "\n",
      "\n",
      "['O', ' ', ' ']\n",
      "[' ', 'X', ' ']\n",
      "[' ', ' ', ' ']\n",
      "\n",
      "\n",
      "['O', 'X', ' ']\n",
      "[' ', 'X', ' ']\n",
      "[' ', ' ', ' ']\n",
      "\n",
      "\n",
      "['O', 'X', ' ']\n",
      "[' ', 'X', ' ']\n",
      "[' ', ' ', 'O']\n",
      "\n",
      "\n",
      "['O', 'X', ' ']\n",
      "[' ', 'X', ' ']\n",
      "[' ', 'X', 'O']\n",
      "Parabéns, X ganhou!\n"
     ]
    }
   ],
   "source": [
    "tabuleiro = [[\" \" for i in range(3)] for j in range(3)]\n",
    "print(tabuleiro[0])\n",
    "print(tabuleiro[1])\n",
    "print(tabuleiro[2])\n",
    "print(\"\\n\")\n",
    "\n",
    "def verificarVitoria(c, matriz):\n",
    "    for i in range(len(matriz)):\n",
    "        if matriz[i][0] == c and matriz[i][1] == c and matriz[i][2] == c:\n",
    "            return True\n",
    "    for j in range(len(matriz[0])):\n",
    "        if matriz[0][j] == c and matriz[1][j] == c and matriz[2][j] == c:\n",
    "            return True\n",
    "    if matriz[0][0] == c and matriz[1][1] == c and matriz[2][2] == c:\n",
    "        return True\n",
    "    if matriz[0][2] == c and matriz[1][1] == c and matriz[2][0] == c:\n",
    "        return True\n",
    "    \n",
    "    return False\n",
    "\n",
    "jogadas = 0\n",
    "while True:\n",
    "    jogador_atual = \"X\" if jogadas % 2 == 0 else \"O\"\n",
    "    try:\n",
    "        linha = int(input(\"Digite a linha: \"))\n",
    "        coluna = int(input(\"Digite a coluna: \"))\n",
    "\n",
    "        if not (0 <= linha < 3 and 0 <= coluna < 3):\n",
    "            print(\"Posição inválida! Use números de 0 a 2.\")\n",
    "            continue\n",
    "\n",
    "        if tabuleiro[linha][coluna] == \" \":\n",
    "            tabuleiro[linha][coluna] = jogador_atual\n",
    "            jogadas += 1\n",
    "        else:\n",
    "            print(\"Posição invalida, digite outra!\")\n",
    "            continue\n",
    "\n",
    "    except ValueError:\n",
    "        print(\"Entrada inválida! Digite apenas números inteiros.\")\n",
    "        continue\n",
    "\n",
    "    print(tabuleiro[0])\n",
    "    print(tabuleiro[1])\n",
    "    print(tabuleiro[2])\n",
    "\n",
    "    if verificarVitoria(jogador_atual, tabuleiro) == True:\n",
    "        print(f\"Parabéns, {jogador_atual} ganhou!\")\n",
    "        break\n",
    "\n",
    "    if jogadas == 9:\n",
    "        print(\"Empate!\")\n",
    "        break\n",
    "\n",
    "    print(\"\\n\")"
   ]
  }
 ],
 "metadata": {
  "kernelspec": {
   "display_name": "Python 3",
   "language": "python",
   "name": "python3"
  },
  "language_info": {
   "codemirror_mode": {
    "name": "ipython",
    "version": 3
   },
   "file_extension": ".py",
   "mimetype": "text/x-python",
   "name": "python",
   "nbconvert_exporter": "python",
   "pygments_lexer": "ipython3",
   "version": "3.13.1"
  }
 },
 "nbformat": 4,
 "nbformat_minor": 5
}
